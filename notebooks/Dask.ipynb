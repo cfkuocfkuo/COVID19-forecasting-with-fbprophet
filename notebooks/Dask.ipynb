{
 "cells": [
  {
   "cell_type": "code",
   "execution_count": 1,
   "metadata": {},
   "outputs": [],
   "source": [
    "# import warnings filter \n",
    "from warnings import simplefilter\n",
    "# ignore all future warnings\n",
    "simplefilter(action='ignore', category=FutureWarning)\n",
    "\n",
    "# Importing Dask packages\n",
    "import dask.dataframe as dd\n",
    "import dask.array as da\n",
    "\n",
    "#import otheer needed python packages\n",
    "import pandas as pd\n",
    "import numpy as np\n",
    "import matplotlib.pyplot as plt\n",
    "%matplotlib inline\n",
    "from sklearn.metrics import mean_squared_error\n",
    "from sklearn.metrics import r2_score"
   ]
  },
  {
   "cell_type": "code",
   "execution_count": 2,
   "metadata": {},
   "outputs": [],
   "source": [
    "import os\n",
    "import wget\n",
    "\n",
    "# Extracting the dataset online\n",
    "### To overwrite the previous datasets when re-running\n",
    "if 'covid19_data.csv' in os.listdir(\"../data\"):\n",
    "    os.remove('/home/qwerty/Documents/Time Series Forecasting//data/covid19_data.csv')\n",
    "    path = '/home/qwerty/Documents/Time Series Forecasting//data/covid19_data.csv'\n",
    "    url =  \"https://raw.githubusercontent.com/datasets/covid-19/master/data/time-series-19-covid-combined.csv\"\n",
    "    wget.download(url, path)\n",
    "else:\n",
    "    path = '/home/qwerty/Documents/Time Series Forecasting/data/covid19_data.csv'\n",
    "    url =  \"https://raw.githubusercontent.com/datasets/covid-19/master/data/time-series-19-covid-combined.csv\"\n",
    "    wget.download(url, path)\n",
    "    \n",
    "# Reading the dataset\n",
    "data = dd.read_csv('../data/covid19_data.csv',\n",
    "                   dtype={'Confirmed': 'float64','Deaths': 'float64', 'Recovered':'float64','Lat':'float64', 'long':'float64'})"
   ]
  },
  {
   "cell_type": "markdown",
   "metadata": {},
   "source": [
    "### Preprocessing the datasets"
   ]
  },
  {
   "cell_type": "code",
   "execution_count": 3,
   "metadata": {},
   "outputs": [
    {
     "data": {
      "text/html": [
       "<div>\n",
       "<style scoped>\n",
       "    .dataframe tbody tr th:only-of-type {\n",
       "        vertical-align: middle;\n",
       "    }\n",
       "\n",
       "    .dataframe tbody tr th {\n",
       "        vertical-align: top;\n",
       "    }\n",
       "\n",
       "    .dataframe thead th {\n",
       "        text-align: right;\n",
       "    }\n",
       "</style>\n",
       "<table border=\"1\" class=\"dataframe\">\n",
       "  <thead>\n",
       "    <tr style=\"text-align: right;\">\n",
       "      <th></th>\n",
       "      <th>Date</th>\n",
       "      <th>Country/Region</th>\n",
       "      <th>Province/State</th>\n",
       "      <th>Lat</th>\n",
       "      <th>Long</th>\n",
       "      <th>Confirmed</th>\n",
       "      <th>Recovered</th>\n",
       "      <th>Deaths</th>\n",
       "    </tr>\n",
       "  </thead>\n",
       "  <tbody>\n",
       "    <tr>\n",
       "      <th>0</th>\n",
       "      <td>2020-01-22</td>\n",
       "      <td>Afghanistan</td>\n",
       "      <td>NaN</td>\n",
       "      <td>33.0</td>\n",
       "      <td>65.0</td>\n",
       "      <td>0.0</td>\n",
       "      <td>0.0</td>\n",
       "      <td>0.0</td>\n",
       "    </tr>\n",
       "    <tr>\n",
       "      <th>1</th>\n",
       "      <td>2020-01-23</td>\n",
       "      <td>Afghanistan</td>\n",
       "      <td>NaN</td>\n",
       "      <td>33.0</td>\n",
       "      <td>65.0</td>\n",
       "      <td>0.0</td>\n",
       "      <td>0.0</td>\n",
       "      <td>0.0</td>\n",
       "    </tr>\n",
       "    <tr>\n",
       "      <th>2</th>\n",
       "      <td>2020-01-24</td>\n",
       "      <td>Afghanistan</td>\n",
       "      <td>NaN</td>\n",
       "      <td>33.0</td>\n",
       "      <td>65.0</td>\n",
       "      <td>0.0</td>\n",
       "      <td>0.0</td>\n",
       "      <td>0.0</td>\n",
       "    </tr>\n",
       "    <tr>\n",
       "      <th>3</th>\n",
       "      <td>2020-01-25</td>\n",
       "      <td>Afghanistan</td>\n",
       "      <td>NaN</td>\n",
       "      <td>33.0</td>\n",
       "      <td>65.0</td>\n",
       "      <td>0.0</td>\n",
       "      <td>0.0</td>\n",
       "      <td>0.0</td>\n",
       "    </tr>\n",
       "    <tr>\n",
       "      <th>4</th>\n",
       "      <td>2020-01-26</td>\n",
       "      <td>Afghanistan</td>\n",
       "      <td>NaN</td>\n",
       "      <td>33.0</td>\n",
       "      <td>65.0</td>\n",
       "      <td>0.0</td>\n",
       "      <td>0.0</td>\n",
       "      <td>0.0</td>\n",
       "    </tr>\n",
       "  </tbody>\n",
       "</table>\n",
       "</div>"
      ],
      "text/plain": [
       "         Date Country/Region Province/State   Lat  Long  Confirmed  Recovered  \\\n",
       "0  2020-01-22    Afghanistan            NaN  33.0  65.0        0.0        0.0   \n",
       "1  2020-01-23    Afghanistan            NaN  33.0  65.0        0.0        0.0   \n",
       "2  2020-01-24    Afghanistan            NaN  33.0  65.0        0.0        0.0   \n",
       "3  2020-01-25    Afghanistan            NaN  33.0  65.0        0.0        0.0   \n",
       "4  2020-01-26    Afghanistan            NaN  33.0  65.0        0.0        0.0   \n",
       "\n",
       "   Deaths  \n",
       "0     0.0  \n",
       "1     0.0  \n",
       "2     0.0  \n",
       "3     0.0  \n",
       "4     0.0  "
      ]
     },
     "execution_count": 3,
     "metadata": {},
     "output_type": "execute_result"
    }
   ],
   "source": [
    "data.head()"
   ]
  },
  {
   "cell_type": "code",
   "execution_count": 4,
   "metadata": {},
   "outputs": [
    {
     "data": {
      "text/html": [
       "<div>\n",
       "<style scoped>\n",
       "    .dataframe tbody tr th:only-of-type {\n",
       "        vertical-align: middle;\n",
       "    }\n",
       "\n",
       "    .dataframe tbody tr th {\n",
       "        vertical-align: top;\n",
       "    }\n",
       "\n",
       "    .dataframe thead th {\n",
       "        text-align: right;\n",
       "    }\n",
       "</style>\n",
       "<table border=\"1\" class=\"dataframe\">\n",
       "  <thead>\n",
       "    <tr style=\"text-align: right;\">\n",
       "      <th></th>\n",
       "      <th>Lat</th>\n",
       "      <th>Long</th>\n",
       "      <th>Confirmed</th>\n",
       "      <th>Recovered</th>\n",
       "      <th>Deaths</th>\n",
       "    </tr>\n",
       "  </thead>\n",
       "  <tbody>\n",
       "    <tr>\n",
       "      <th>count</th>\n",
       "      <td>35511.000000</td>\n",
       "      <td>35511.000000</td>\n",
       "      <td>3.537800e+04</td>\n",
       "      <td>33649.000000</td>\n",
       "      <td>35378.000000</td>\n",
       "    </tr>\n",
       "    <tr>\n",
       "      <th>mean</th>\n",
       "      <td>21.279064</td>\n",
       "      <td>22.055923</td>\n",
       "      <td>6.531770e+03</td>\n",
       "      <td>2349.077060</td>\n",
       "      <td>425.691390</td>\n",
       "    </tr>\n",
       "    <tr>\n",
       "      <th>std</th>\n",
       "      <td>24.908699</td>\n",
       "      <td>70.642913</td>\n",
       "      <td>5.527281e+04</td>\n",
       "      <td>15382.900815</td>\n",
       "      <td>3723.412346</td>\n",
       "    </tr>\n",
       "    <tr>\n",
       "      <th>min</th>\n",
       "      <td>-51.796300</td>\n",
       "      <td>-135.000000</td>\n",
       "      <td>-1.000000e+00</td>\n",
       "      <td>0.000000</td>\n",
       "      <td>-1.000000</td>\n",
       "    </tr>\n",
       "    <tr>\n",
       "      <th>25%</th>\n",
       "      <td>6.877000</td>\n",
       "      <td>-23.041800</td>\n",
       "      <td>0.000000e+00</td>\n",
       "      <td>0.000000</td>\n",
       "      <td>0.000000</td>\n",
       "    </tr>\n",
       "    <tr>\n",
       "      <th>50%</th>\n",
       "      <td>23.634500</td>\n",
       "      <td>20.939400</td>\n",
       "      <td>3.900000e+01</td>\n",
       "      <td>6.000000</td>\n",
       "      <td>0.000000</td>\n",
       "    </tr>\n",
       "    <tr>\n",
       "      <th>75%</th>\n",
       "      <td>41.204400</td>\n",
       "      <td>78.000000</td>\n",
       "      <td>6.107500e+02</td>\n",
       "      <td>197.000000</td>\n",
       "      <td>8.000000</td>\n",
       "    </tr>\n",
       "    <tr>\n",
       "      <th>max</th>\n",
       "      <td>71.706900</td>\n",
       "      <td>178.065000</td>\n",
       "      <td>1.831821e+06</td>\n",
       "      <td>463868.000000</td>\n",
       "      <td>106180.000000</td>\n",
       "    </tr>\n",
       "  </tbody>\n",
       "</table>\n",
       "</div>"
      ],
      "text/plain": [
       "                Lat          Long     Confirmed      Recovered         Deaths\n",
       "count  35511.000000  35511.000000  3.537800e+04   33649.000000   35378.000000\n",
       "mean      21.279064     22.055923  6.531770e+03    2349.077060     425.691390\n",
       "std       24.908699     70.642913  5.527281e+04   15382.900815    3723.412346\n",
       "min      -51.796300   -135.000000 -1.000000e+00       0.000000      -1.000000\n",
       "25%        6.877000    -23.041800  0.000000e+00       0.000000       0.000000\n",
       "50%       23.634500     20.939400  3.900000e+01       6.000000       0.000000\n",
       "75%       41.204400     78.000000  6.107500e+02     197.000000       8.000000\n",
       "max       71.706900    178.065000  1.831821e+06  463868.000000  106180.000000"
      ]
     },
     "execution_count": 4,
     "metadata": {},
     "output_type": "execute_result"
    }
   ],
   "source": [
    "data.compute().describe()"
   ]
  },
  {
   "cell_type": "code",
   "execution_count": 5,
   "metadata": {},
   "outputs": [
    {
     "data": {
      "text/html": [
       "<div>\n",
       "<style scoped>\n",
       "    .dataframe tbody tr th:only-of-type {\n",
       "        vertical-align: middle;\n",
       "    }\n",
       "\n",
       "    .dataframe tbody tr th {\n",
       "        vertical-align: top;\n",
       "    }\n",
       "\n",
       "    .dataframe thead th {\n",
       "        text-align: right;\n",
       "    }\n",
       "</style>\n",
       "<table border=\"1\" class=\"dataframe\">\n",
       "  <thead>\n",
       "    <tr style=\"text-align: right;\">\n",
       "      <th></th>\n",
       "      <th>Lat</th>\n",
       "      <th>Long</th>\n",
       "      <th>Confirmed</th>\n",
       "      <th>Recovered</th>\n",
       "      <th>Deaths</th>\n",
       "    </tr>\n",
       "  </thead>\n",
       "  <tbody>\n",
       "    <tr>\n",
       "      <th>Lat</th>\n",
       "      <td>1.000000</td>\n",
       "      <td>-0.134332</td>\n",
       "      <td>0.067674</td>\n",
       "      <td>0.088209</td>\n",
       "      <td>0.081121</td>\n",
       "    </tr>\n",
       "    <tr>\n",
       "      <th>Long</th>\n",
       "      <td>-0.134332</td>\n",
       "      <td>1.000000</td>\n",
       "      <td>-0.065405</td>\n",
       "      <td>-0.051374</td>\n",
       "      <td>-0.071676</td>\n",
       "    </tr>\n",
       "    <tr>\n",
       "      <th>Confirmed</th>\n",
       "      <td>0.067674</td>\n",
       "      <td>-0.065405</td>\n",
       "      <td>1.000000</td>\n",
       "      <td>0.839709</td>\n",
       "      <td>0.931154</td>\n",
       "    </tr>\n",
       "    <tr>\n",
       "      <th>Recovered</th>\n",
       "      <td>0.088209</td>\n",
       "      <td>-0.051374</td>\n",
       "      <td>0.839709</td>\n",
       "      <td>1.000000</td>\n",
       "      <td>0.795156</td>\n",
       "    </tr>\n",
       "    <tr>\n",
       "      <th>Deaths</th>\n",
       "      <td>0.081121</td>\n",
       "      <td>-0.071676</td>\n",
       "      <td>0.931154</td>\n",
       "      <td>0.795156</td>\n",
       "      <td>1.000000</td>\n",
       "    </tr>\n",
       "  </tbody>\n",
       "</table>\n",
       "</div>"
      ],
      "text/plain": [
       "                Lat      Long  Confirmed  Recovered    Deaths\n",
       "Lat        1.000000 -0.134332   0.067674   0.088209  0.081121\n",
       "Long      -0.134332  1.000000  -0.065405  -0.051374 -0.071676\n",
       "Confirmed  0.067674 -0.065405   1.000000   0.839709  0.931154\n",
       "Recovered  0.088209 -0.051374   0.839709   1.000000  0.795156\n",
       "Deaths     0.081121 -0.071676   0.931154   0.795156  1.000000"
      ]
     },
     "execution_count": 5,
     "metadata": {},
     "output_type": "execute_result"
    }
   ],
   "source": [
    "data.compute().corr()"
   ]
  },
  {
   "cell_type": "code",
   "execution_count": 6,
   "metadata": {},
   "outputs": [
    {
     "name": "stdout",
     "output_type": "stream",
     "text": [
      "<class 'pandas.core.frame.DataFrame'>\n",
      "RangeIndex: 35511 entries, 0 to 35510\n",
      "Data columns (total 8 columns):\n",
      " #   Column          Non-Null Count  Dtype  \n",
      "---  ------          --------------  -----  \n",
      " 0   Date            35511 non-null  object \n",
      " 1   Country/Region  35511 non-null  object \n",
      " 2   Province/State  10906 non-null  object \n",
      " 3   Lat             35511 non-null  float64\n",
      " 4   Long            35511 non-null  float64\n",
      " 5   Confirmed       35378 non-null  float64\n",
      " 6   Recovered       33649 non-null  float64\n",
      " 7   Deaths          35378 non-null  float64\n",
      "dtypes: float64(5), object(3)\n",
      "memory usage: 2.2+ MB\n"
     ]
    }
   ],
   "source": [
    "data.compute().info()"
   ]
  },
  {
   "cell_type": "code",
   "execution_count": 7,
   "metadata": {},
   "outputs": [],
   "source": [
    "#Parsing the 'Date' feature to a date datatype \n",
    "data['Date'] = dd.to_datetime(data['Date'], infer_datetime_format=True) "
   ]
  },
  {
   "cell_type": "code",
   "execution_count": 8,
   "metadata": {},
   "outputs": [
    {
     "name": "stdout",
     "output_type": "stream",
     "text": [
      "<class 'pandas.core.frame.DataFrame'>\n",
      "RangeIndex: 35511 entries, 0 to 35510\n",
      "Data columns (total 8 columns):\n",
      " #   Column          Non-Null Count  Dtype         \n",
      "---  ------          --------------  -----         \n",
      " 0   Date            35511 non-null  datetime64[ns]\n",
      " 1   Country/Region  35511 non-null  object        \n",
      " 2   Province/State  10906 non-null  object        \n",
      " 3   Lat             35511 non-null  float64       \n",
      " 4   Long            35511 non-null  float64       \n",
      " 5   Confirmed       35378 non-null  float64       \n",
      " 6   Recovered       33649 non-null  float64       \n",
      " 7   Deaths          35378 non-null  float64       \n",
      "dtypes: datetime64[ns](1), float64(5), object(2)\n",
      "memory usage: 2.2+ MB\n"
     ]
    }
   ],
   "source": [
    "data.compute().info()"
   ]
  },
  {
   "cell_type": "code",
   "execution_count": 9,
   "metadata": {},
   "outputs": [],
   "source": [
    "# Feature Engineering\n",
    "data['CurrentCase'] = data['Confirmed'] - data['Recovered'] - data['Deaths']"
   ]
  },
  {
   "cell_type": "code",
   "execution_count": 10,
   "metadata": {},
   "outputs": [
    {
     "data": {
      "text/html": [
       "<div>\n",
       "<style scoped>\n",
       "    .dataframe tbody tr th:only-of-type {\n",
       "        vertical-align: middle;\n",
       "    }\n",
       "\n",
       "    .dataframe tbody tr th {\n",
       "        vertical-align: top;\n",
       "    }\n",
       "\n",
       "    .dataframe thead th {\n",
       "        text-align: right;\n",
       "    }\n",
       "</style>\n",
       "<table border=\"1\" class=\"dataframe\">\n",
       "  <thead>\n",
       "    <tr style=\"text-align: right;\">\n",
       "      <th></th>\n",
       "      <th>Date</th>\n",
       "      <th>Country/Region</th>\n",
       "      <th>Province/State</th>\n",
       "      <th>Lat</th>\n",
       "      <th>Long</th>\n",
       "      <th>Confirmed</th>\n",
       "      <th>Recovered</th>\n",
       "      <th>Deaths</th>\n",
       "      <th>CurrentCase</th>\n",
       "    </tr>\n",
       "  </thead>\n",
       "  <tbody>\n",
       "    <tr>\n",
       "      <th>0</th>\n",
       "      <td>2020-01-22</td>\n",
       "      <td>Afghanistan</td>\n",
       "      <td>NaN</td>\n",
       "      <td>33.0</td>\n",
       "      <td>65.0</td>\n",
       "      <td>0.0</td>\n",
       "      <td>0.0</td>\n",
       "      <td>0.0</td>\n",
       "      <td>0.0</td>\n",
       "    </tr>\n",
       "    <tr>\n",
       "      <th>1</th>\n",
       "      <td>2020-01-23</td>\n",
       "      <td>Afghanistan</td>\n",
       "      <td>NaN</td>\n",
       "      <td>33.0</td>\n",
       "      <td>65.0</td>\n",
       "      <td>0.0</td>\n",
       "      <td>0.0</td>\n",
       "      <td>0.0</td>\n",
       "      <td>0.0</td>\n",
       "    </tr>\n",
       "    <tr>\n",
       "      <th>2</th>\n",
       "      <td>2020-01-24</td>\n",
       "      <td>Afghanistan</td>\n",
       "      <td>NaN</td>\n",
       "      <td>33.0</td>\n",
       "      <td>65.0</td>\n",
       "      <td>0.0</td>\n",
       "      <td>0.0</td>\n",
       "      <td>0.0</td>\n",
       "      <td>0.0</td>\n",
       "    </tr>\n",
       "    <tr>\n",
       "      <th>3</th>\n",
       "      <td>2020-01-25</td>\n",
       "      <td>Afghanistan</td>\n",
       "      <td>NaN</td>\n",
       "      <td>33.0</td>\n",
       "      <td>65.0</td>\n",
       "      <td>0.0</td>\n",
       "      <td>0.0</td>\n",
       "      <td>0.0</td>\n",
       "      <td>0.0</td>\n",
       "    </tr>\n",
       "    <tr>\n",
       "      <th>4</th>\n",
       "      <td>2020-01-26</td>\n",
       "      <td>Afghanistan</td>\n",
       "      <td>NaN</td>\n",
       "      <td>33.0</td>\n",
       "      <td>65.0</td>\n",
       "      <td>0.0</td>\n",
       "      <td>0.0</td>\n",
       "      <td>0.0</td>\n",
       "      <td>0.0</td>\n",
       "    </tr>\n",
       "  </tbody>\n",
       "</table>\n",
       "</div>"
      ],
      "text/plain": [
       "        Date Country/Region Province/State   Lat  Long  Confirmed  Recovered  \\\n",
       "0 2020-01-22    Afghanistan            NaN  33.0  65.0        0.0        0.0   \n",
       "1 2020-01-23    Afghanistan            NaN  33.0  65.0        0.0        0.0   \n",
       "2 2020-01-24    Afghanistan            NaN  33.0  65.0        0.0        0.0   \n",
       "3 2020-01-25    Afghanistan            NaN  33.0  65.0        0.0        0.0   \n",
       "4 2020-01-26    Afghanistan            NaN  33.0  65.0        0.0        0.0   \n",
       "\n",
       "   Deaths  CurrentCase  \n",
       "0     0.0          0.0  \n",
       "1     0.0          0.0  \n",
       "2     0.0          0.0  \n",
       "3     0.0          0.0  \n",
       "4     0.0          0.0  "
      ]
     },
     "execution_count": 10,
     "metadata": {},
     "output_type": "execute_result"
    }
   ],
   "source": [
    "data.head()"
   ]
  },
  {
   "cell_type": "code",
   "execution_count": 11,
   "metadata": {},
   "outputs": [],
   "source": [
    "# Aggregating all cases in the world and grouping by date\n",
    "date_df = data.groupby('Date')[['Confirmed' ,'Recovered', 'Deaths', 'CurrentCase']].sum()"
   ]
  },
  {
   "cell_type": "code",
   "execution_count": 12,
   "metadata": {},
   "outputs": [
    {
     "data": {
      "text/html": [
       "<div>\n",
       "<style scoped>\n",
       "    .dataframe tbody tr th:only-of-type {\n",
       "        vertical-align: middle;\n",
       "    }\n",
       "\n",
       "    .dataframe tbody tr th {\n",
       "        vertical-align: top;\n",
       "    }\n",
       "\n",
       "    .dataframe thead th {\n",
       "        text-align: right;\n",
       "    }\n",
       "</style>\n",
       "<table border=\"1\" class=\"dataframe\">\n",
       "  <thead>\n",
       "    <tr style=\"text-align: right;\">\n",
       "      <th></th>\n",
       "      <th>Confirmed</th>\n",
       "      <th>Recovered</th>\n",
       "      <th>Deaths</th>\n",
       "      <th>CurrentCase</th>\n",
       "    </tr>\n",
       "    <tr>\n",
       "      <th>Date</th>\n",
       "      <th></th>\n",
       "      <th></th>\n",
       "      <th></th>\n",
       "      <th></th>\n",
       "    </tr>\n",
       "  </thead>\n",
       "  <tbody>\n",
       "    <tr>\n",
       "      <th>2020-01-22</th>\n",
       "      <td>555.0</td>\n",
       "      <td>28.0</td>\n",
       "      <td>17.0</td>\n",
       "      <td>510.0</td>\n",
       "    </tr>\n",
       "    <tr>\n",
       "      <th>2020-01-23</th>\n",
       "      <td>654.0</td>\n",
       "      <td>30.0</td>\n",
       "      <td>18.0</td>\n",
       "      <td>606.0</td>\n",
       "    </tr>\n",
       "    <tr>\n",
       "      <th>2020-01-24</th>\n",
       "      <td>941.0</td>\n",
       "      <td>36.0</td>\n",
       "      <td>26.0</td>\n",
       "      <td>879.0</td>\n",
       "    </tr>\n",
       "    <tr>\n",
       "      <th>2020-01-25</th>\n",
       "      <td>1434.0</td>\n",
       "      <td>39.0</td>\n",
       "      <td>42.0</td>\n",
       "      <td>1353.0</td>\n",
       "    </tr>\n",
       "    <tr>\n",
       "      <th>2020-01-26</th>\n",
       "      <td>2118.0</td>\n",
       "      <td>52.0</td>\n",
       "      <td>56.0</td>\n",
       "      <td>2009.0</td>\n",
       "    </tr>\n",
       "  </tbody>\n",
       "</table>\n",
       "</div>"
      ],
      "text/plain": [
       "            Confirmed  Recovered  Deaths  CurrentCase\n",
       "Date                                                 \n",
       "2020-01-22      555.0       28.0    17.0        510.0\n",
       "2020-01-23      654.0       30.0    18.0        606.0\n",
       "2020-01-24      941.0       36.0    26.0        879.0\n",
       "2020-01-25     1434.0       39.0    42.0       1353.0\n",
       "2020-01-26     2118.0       52.0    56.0       2009.0"
      ]
     },
     "execution_count": 12,
     "metadata": {},
     "output_type": "execute_result"
    }
   ],
   "source": [
    "date_df.head()"
   ]
  },
  {
   "cell_type": "code",
   "execution_count": 13,
   "metadata": {},
   "outputs": [
    {
     "data": {
      "image/png": "[encoded data removed]",
      "text/plain": [
       "<Figure size 1080x720 with 1 Axes>"
      ]
     },
     "metadata": {
      "needs_background": "light"
     },
     "output_type": "display_data"
    }
   ],
   "source": [
    "plt.figure(figsize=(15,10))\n",
    "plt.plot(date_df[\"Recovered\"].compute(),color='g',label='Recovered')\n",
    "plt.plot(date_df[\"Confirmed\"].compute(),color='b', label='Confirmed')\n",
    "plt.plot(date_df[\"Deaths\"].compute(),color='r',label='Deaths')\n",
    "plt.plot(date_df['CurrentCase'].compute(),color='k', label='Current cases')\n",
    "plt.title('Global SARS Cov 2 over time')\n",
    "plt.legend();"
   ]
  },
  {
   "cell_type": "code",
   "execution_count": 14,
   "metadata": {},
   "outputs": [],
   "source": [
    "# Model initialization\n",
    "from fbprophet import Prophet\n",
    "model = Prophet()"
   ]
  },
  {
   "cell_type": "code",
   "execution_count": 15,
   "metadata": {},
   "outputs": [
    {
     "data": {
      "text/plain": [
       "<fbprophet.forecaster.Prophet at 0x7f0c65b11550>"
      ]
     },
     "execution_count": 15,
     "metadata": {},
     "output_type": "execute_result"
    }
   ],
   "source": [
    "# Add seasonality\n",
    "model.add_seasonality(name='Monthly', period=30.42, fourier_order=5)"
   ]
  },
  {
   "cell_type": "code",
   "execution_count": 16,
   "metadata": {},
   "outputs": [],
   "source": [
    "### Splitting datasets operation\n",
    "global_cases = date_df.reset_index()\n",
    "confirmed_df = global_cases[['Date', 'Confirmed']]\n",
    "recovered_df = global_cases[['Date', 'Recovered']]\n",
    "deaths_df = global_cases[['Date', 'Deaths']]\n",
    "current_df = global_cases[['Date', 'CurrentCase']]"
   ]
  },
  {
   "cell_type": "code",
   "execution_count": 17,
   "metadata": {},
   "outputs": [],
   "source": [
    "# For Prophet to predict, its required for the names on the variables to be ds and y\n",
    "def rename_func(dataframe):\n",
    "    cols = dataframe.columns\n",
    "    dataframe = dataframe.rename(columns= {cols[0]: 'ds', cols[1]:'y'})\n",
    "    return dataframe"
   ]
  },
  {
   "cell_type": "code",
   "execution_count": 18,
   "metadata": {},
   "outputs": [],
   "source": [
    "confirmed_df = rename_func(confirmed_df)\n",
    "recovered_df = rename_func(recovered_df)\n",
    "deaths_df = rename_func(deaths_df)\n",
    "current_df = rename_func(current_df)"
   ]
  },
  {
   "cell_type": "code",
   "execution_count": 19,
   "metadata": {},
   "outputs": [
    {
     "data": {
      "text/html": [
       "<div>\n",
       "<style scoped>\n",
       "    .dataframe tbody tr th:only-of-type {\n",
       "        vertical-align: middle;\n",
       "    }\n",
       "\n",
       "    .dataframe tbody tr th {\n",
       "        vertical-align: top;\n",
       "    }\n",
       "\n",
       "    .dataframe thead th {\n",
       "        text-align: right;\n",
       "    }\n",
       "</style>\n",
       "<table border=\"1\" class=\"dataframe\">\n",
       "  <thead>\n",
       "    <tr style=\"text-align: right;\">\n",
       "      <th></th>\n",
       "      <th>ds</th>\n",
       "      <th>y</th>\n",
       "    </tr>\n",
       "  </thead>\n",
       "  <tbody>\n",
       "    <tr>\n",
       "      <th>0</th>\n",
       "      <td>2020-01-22</td>\n",
       "      <td>555.0</td>\n",
       "    </tr>\n",
       "    <tr>\n",
       "      <th>1</th>\n",
       "      <td>2020-01-23</td>\n",
       "      <td>654.0</td>\n",
       "    </tr>\n",
       "    <tr>\n",
       "      <th>2</th>\n",
       "      <td>2020-01-24</td>\n",
       "      <td>941.0</td>\n",
       "    </tr>\n",
       "    <tr>\n",
       "      <th>3</th>\n",
       "      <td>2020-01-25</td>\n",
       "      <td>1434.0</td>\n",
       "    </tr>\n",
       "    <tr>\n",
       "      <th>4</th>\n",
       "      <td>2020-01-26</td>\n",
       "      <td>2118.0</td>\n",
       "    </tr>\n",
       "  </tbody>\n",
       "</table>\n",
       "</div>"
      ],
      "text/plain": [
       "          ds       y\n",
       "0 2020-01-22   555.0\n",
       "1 2020-01-23   654.0\n",
       "2 2020-01-24   941.0\n",
       "3 2020-01-25  1434.0\n",
       "4 2020-01-26  2118.0"
      ]
     },
     "execution_count": 19,
     "metadata": {},
     "output_type": "execute_result"
    }
   ],
   "source": [
    "# Get overview of changes\n",
    "confirmed_df.head()"
   ]
  },
  {
   "cell_type": "code",
   "execution_count": 20,
   "metadata": {},
   "outputs": [],
   "source": [
    "def train_test_split(dataframe, ratio):\n",
    "    \"\"\"\n",
    "    Parameters:\n",
    "    dataframe- Dataframe required to be split\n",
    "    ratio: Percentage of training split in the scale of 0-100\n",
    "    \"\"\"\n",
    "    divisor = round((ratio/100)*dataframe.compute().shape[0])\n",
    "    #print(f'Division occurs at index {divisor}')\n",
    "    train = dataframe.compute().iloc[:divisor]\n",
    "    test = dataframe.compute().iloc[divisor:]\n",
    "    return train, test, divisor"
   ]
  },
  {
   "cell_type": "markdown",
   "metadata": {},
   "source": [
    "### Confirmed cases Prediction operations"
   ]
  },
  {
   "cell_type": "code",
   "execution_count": 21,
   "metadata": {},
   "outputs": [],
   "source": [
    "confirmed_train, confirmed_test, divisor = train_test_split(confirmed_df, 70)"
   ]
  },
  {
   "cell_type": "code",
   "execution_count": 22,
   "metadata": {},
   "outputs": [
    {
     "data": {
      "text/plain": [
       "((93, 2), (40, 2))"
      ]
     },
     "execution_count": 22,
     "metadata": {},
     "output_type": "execute_result"
    }
   ],
   "source": [
    "confirmed_train.shape, confirmed_test.shape"
   ]
  },
  {
   "cell_type": "code",
   "execution_count": 23,
   "metadata": {},
   "outputs": [
    {
     "name": "stderr",
     "output_type": "stream",
     "text": [
      "INFO:fbprophet:Disabling yearly seasonality. Run prophet with yearly_seasonality=True to override this.\n",
      "INFO:fbprophet:Disabling daily seasonality. Run prophet with daily_seasonality=True to override this.\n"
     ]
    },
    {
     "data": {
      "text/plain": [
       "<fbprophet.forecaster.Prophet at 0x7f0c65b11550>"
      ]
     },
     "execution_count": 23,
     "metadata": {},
     "output_type": "execute_result"
    }
   ],
   "source": [
    "# Fitting model\n",
    "model.fit(confirmed_train)"
   ]
  },
  {
   "cell_type": "code",
   "execution_count": 24,
   "metadata": {},
   "outputs": [],
   "source": [
    "# Creating future dates\n",
    "future_dates = model.make_future_dataframe(periods=40)"
   ]
  },
  {
   "cell_type": "code",
   "execution_count": 25,
   "metadata": {},
   "outputs": [],
   "source": [
    "# Making predictions\n",
    "predictions = model.predict(future_dates)"
   ]
  },
  {
   "cell_type": "code",
   "execution_count": 26,
   "metadata": {},
   "outputs": [
    {
     "data": {
      "text/html": [
       "<div>\n",
       "<style scoped>\n",
       "    .dataframe tbody tr th:only-of-type {\n",
       "        vertical-align: middle;\n",
       "    }\n",
       "\n",
       "    .dataframe tbody tr th {\n",
       "        vertical-align: top;\n",
       "    }\n",
       "\n",
       "    .dataframe thead th {\n",
       "        text-align: right;\n",
       "    }\n",
       "</style>\n",
       "<table border=\"1\" class=\"dataframe\">\n",
       "  <thead>\n",
       "    <tr style=\"text-align: right;\">\n",
       "      <th></th>\n",
       "      <th>ds</th>\n",
       "      <th>trend</th>\n",
       "      <th>yhat_lower</th>\n",
       "      <th>yhat_upper</th>\n",
       "      <th>trend_lower</th>\n",
       "      <th>trend_upper</th>\n",
       "      <th>Monthly</th>\n",
       "      <th>Monthly_lower</th>\n",
       "      <th>Monthly_upper</th>\n",
       "      <th>additive_terms</th>\n",
       "      <th>additive_terms_lower</th>\n",
       "      <th>additive_terms_upper</th>\n",
       "      <th>weekly</th>\n",
       "      <th>weekly_lower</th>\n",
       "      <th>weekly_upper</th>\n",
       "      <th>multiplicative_terms</th>\n",
       "      <th>multiplicative_terms_lower</th>\n",
       "      <th>multiplicative_terms_upper</th>\n",
       "      <th>yhat</th>\n",
       "    </tr>\n",
       "  </thead>\n",
       "  <tbody>\n",
       "    <tr>\n",
       "      <th>0</th>\n",
       "      <td>2020-01-22</td>\n",
       "      <td>-1261.873570</td>\n",
       "      <td>-5066.731850</td>\n",
       "      <td>2315.958834</td>\n",
       "      <td>-1261.873570</td>\n",
       "      <td>-1261.873570</td>\n",
       "      <td>4108.494492</td>\n",
       "      <td>4108.494492</td>\n",
       "      <td>4108.494492</td>\n",
       "      <td>30.744752</td>\n",
       "      <td>30.744752</td>\n",
       "      <td>30.744752</td>\n",
       "      <td>-4077.749740</td>\n",
       "      <td>-4077.749740</td>\n",
       "      <td>-4077.749740</td>\n",
       "      <td>0.0</td>\n",
       "      <td>0.0</td>\n",
       "      <td>0.0</td>\n",
       "      <td>-1231.128817</td>\n",
       "    </tr>\n",
       "    <tr>\n",
       "      <th>1</th>\n",
       "      <td>2020-01-23</td>\n",
       "      <td>-1657.910169</td>\n",
       "      <td>-3326.377900</td>\n",
       "      <td>4041.530033</td>\n",
       "      <td>-1657.910169</td>\n",
       "      <td>-1657.910169</td>\n",
       "      <td>1805.590711</td>\n",
       "      <td>1805.590711</td>\n",
       "      <td>1805.590711</td>\n",
       "      <td>1729.955438</td>\n",
       "      <td>1729.955438</td>\n",
       "      <td>1729.955438</td>\n",
       "      <td>-75.635273</td>\n",
       "      <td>-75.635273</td>\n",
       "      <td>-75.635273</td>\n",
       "      <td>0.0</td>\n",
       "      <td>0.0</td>\n",
       "      <td>0.0</td>\n",
       "      <td>72.045269</td>\n",
       "    </tr>\n",
       "    <tr>\n",
       "      <th>2</th>\n",
       "      <td>2020-01-24</td>\n",
       "      <td>-2053.946767</td>\n",
       "      <td>-1649.801763</td>\n",
       "      <td>5557.661484</td>\n",
       "      <td>-2053.946767</td>\n",
       "      <td>-2053.946767</td>\n",
       "      <td>1092.396707</td>\n",
       "      <td>1092.396707</td>\n",
       "      <td>1092.396707</td>\n",
       "      <td>4047.813382</td>\n",
       "      <td>4047.813382</td>\n",
       "      <td>4047.813382</td>\n",
       "      <td>2955.416675</td>\n",
       "      <td>2955.416675</td>\n",
       "      <td>2955.416675</td>\n",
       "      <td>0.0</td>\n",
       "      <td>0.0</td>\n",
       "      <td>0.0</td>\n",
       "      <td>1993.866615</td>\n",
       "    </tr>\n",
       "    <tr>\n",
       "      <th>3</th>\n",
       "      <td>2020-01-25</td>\n",
       "      <td>-2449.983366</td>\n",
       "      <td>-1761.020476</td>\n",
       "      <td>5273.783108</td>\n",
       "      <td>-2449.983366</td>\n",
       "      <td>-2449.983366</td>\n",
       "      <td>1615.539805</td>\n",
       "      <td>1615.539805</td>\n",
       "      <td>1615.539805</td>\n",
       "      <td>4181.014633</td>\n",
       "      <td>4181.014633</td>\n",
       "      <td>4181.014633</td>\n",
       "      <td>2565.474828</td>\n",
       "      <td>2565.474828</td>\n",
       "      <td>2565.474828</td>\n",
       "      <td>0.0</td>\n",
       "      <td>0.0</td>\n",
       "      <td>0.0</td>\n",
       "      <td>1731.031267</td>\n",
       "    </tr>\n",
       "    <tr>\n",
       "      <th>4</th>\n",
       "      <td>2020-01-26</td>\n",
       "      <td>578.027498</td>\n",
       "      <td>1957.683567</td>\n",
       "      <td>9319.567958</td>\n",
       "      <td>578.027498</td>\n",
       "      <td>578.027498</td>\n",
       "      <td>2269.709431</td>\n",
       "      <td>2269.709431</td>\n",
       "      <td>2269.709431</td>\n",
       "      <td>4925.078446</td>\n",
       "      <td>4925.078446</td>\n",
       "      <td>4925.078446</td>\n",
       "      <td>2655.369015</td>\n",
       "      <td>2655.369015</td>\n",
       "      <td>2655.369015</td>\n",
       "      <td>0.0</td>\n",
       "      <td>0.0</td>\n",
       "      <td>0.0</td>\n",
       "      <td>5503.105944</td>\n",
       "    </tr>\n",
       "  </tbody>\n",
       "</table>\n",
       "</div>"
      ],
      "text/plain": [
       "          ds        trend   yhat_lower   yhat_upper  trend_lower  trend_upper  \\\n",
       "0 2020-01-22 -1261.873570 -5066.731850  2315.958834 -1261.873570 -1261.873570   \n",
       "1 2020-01-23 -1657.910169 -3326.377900  4041.530033 -1657.910169 -1657.910169   \n",
       "2 2020-01-24 -2053.946767 -1649.801763  5557.661484 -2053.946767 -2053.946767   \n",
       "3 2020-01-25 -2449.983366 -1761.020476  5273.783108 -2449.983366 -2449.983366   \n",
       "4 2020-01-26   578.027498  1957.683567  9319.567958   578.027498   578.027498   \n",
       "\n",
       "       Monthly  Monthly_lower  Monthly_upper  additive_terms  \\\n",
       "0  4108.494492    4108.494492    4108.494492       30.744752   \n",
       "1  1805.590711    1805.590711    1805.590711     1729.955438   \n",
       "2  1092.396707    1092.396707    1092.396707     4047.813382   \n",
       "3  1615.539805    1615.539805    1615.539805     4181.014633   \n",
       "4  2269.709431    2269.709431    2269.709431     4925.078446   \n",
       "\n",
       "   additive_terms_lower  additive_terms_upper       weekly  weekly_lower  \\\n",
       "0             30.744752             30.744752 -4077.749740  -4077.749740   \n",
       "1           1729.955438           1729.955438   -75.635273    -75.635273   \n",
       "2           4047.813382           4047.813382  2955.416675   2955.416675   \n",
       "3           4181.014633           4181.014633  2565.474828   2565.474828   \n",
       "4           4925.078446           4925.078446  2655.369015   2655.369015   \n",
       "\n",
       "   weekly_upper  multiplicative_terms  multiplicative_terms_lower  \\\n",
       "0  -4077.749740                   0.0                         0.0   \n",
       "1    -75.635273                   0.0                         0.0   \n",
       "2   2955.416675                   0.0                         0.0   \n",
       "3   2565.474828                   0.0                         0.0   \n",
       "4   2655.369015                   0.0                         0.0   \n",
       "\n",
       "   multiplicative_terms_upper         yhat  \n",
       "0                         0.0 -1231.128817  \n",
       "1                         0.0    72.045269  \n",
       "2                         0.0  1993.866615  \n",
       "3                         0.0  1731.031267  \n",
       "4                         0.0  5503.105944  "
      ]
     },
     "execution_count": 26,
     "metadata": {},
     "output_type": "execute_result"
    }
   ],
   "source": [
    "predictions.head()"
   ]
  },
  {
   "cell_type": "code",
   "execution_count": 27,
   "metadata": {},
   "outputs": [
    {
     "data": {
      "text/plain": [
       "Index(['ds', 'trend', 'yhat_lower', 'yhat_upper', 'trend_lower', 'trend_upper',\n",
       "       'Monthly', 'Monthly_lower', 'Monthly_upper', 'additive_terms',\n",
       "       'additive_terms_lower', 'additive_terms_upper', 'weekly',\n",
       "       'weekly_lower', 'weekly_upper', 'multiplicative_terms',\n",
       "       'multiplicative_terms_lower', 'multiplicative_terms_upper', 'yhat'],\n",
       "      dtype='object')"
      ]
     },
     "execution_count": 27,
     "metadata": {},
     "output_type": "execute_result"
    }
   ],
   "source": [
    "predictions.columns"
   ]
  },
  {
   "cell_type": "code",
   "execution_count": 28,
   "metadata": {},
   "outputs": [
    {
     "data": {
      "text/plain": [
       "0   -1231.128817\n",
       "1      72.045269\n",
       "2    1993.866615\n",
       "3    1731.031267\n",
       "4    5503.105944\n",
       "Name: yhat, dtype: float64"
      ]
     },
     "execution_count": 28,
     "metadata": {},
     "output_type": "execute_result"
    }
   ],
   "source": [
    "predictions.yhat.head()"
   ]
  },
  {
   "cell_type": "code",
   "execution_count": 29,
   "metadata": {},
   "outputs": [
    {
     "data": {
      "image/png": "[encoded data removed]",
      "text/plain": [
       "<Figure size 720x432 with 1 Axes>"
      ]
     },
     "metadata": {},
     "output_type": "display_data"
    }
   ],
   "source": [
    "model.plot(predictions);"
   ]
  },
  {
   "cell_type": "code",
   "execution_count": 30,
   "metadata": {},
   "outputs": [
    {
     "data": {
      "image/png": "[encoded data removed]",
      "text/plain": [
       "<Figure size 648x648 with 3 Axes>"
      ]
     },
     "metadata": {},
     "output_type": "display_data"
    }
   ],
   "source": [
    "model.plot_components(predictions);"
   ]
  },
  {
   "cell_type": "code",
   "execution_count": 31,
   "metadata": {},
   "outputs": [],
   "source": [
    "def check_metrics(test, predictions):\n",
    "    mse_score = np.sqrt(mean_squared_error(test['y'],predictions['yhat'].iloc[divisor:]))\n",
    "    R2_score = r2_score(test['y'],predictions['yhat'].iloc[divisor:])\n",
    "    print(f\"MSE: {mse_score}\")\n",
    "    print(f\"R-square Score: {R2_score}\")"
   ]
  },
  {
   "cell_type": "code",
   "execution_count": 32,
   "metadata": {},
   "outputs": [
    {
     "name": "stdout",
     "output_type": "stream",
     "text": [
      "MSE: 175216.5397269952\n",
      "R-square Score: 0.9722947182683824\n"
     ]
    }
   ],
   "source": [
    "check_metrics(confirmed_test, predictions)"
   ]
  },
  {
   "cell_type": "code",
   "execution_count": 33,
   "metadata": {},
   "outputs": [
    {
     "data": {
      "image/png": "[encoded data removed]",
      "text/plain": [
       "<Figure size 720x432 with 1 Axes>"
      ]
     },
     "metadata": {},
     "output_type": "display_data"
    }
   ],
   "source": [
    "from fbprophet.plot import add_changepoints_to_plot\n",
    "fig = model.plot(predictions)\n",
    "changes = add_changepoints_to_plot(fig.gca(), model, predictions)"
   ]
  },
  {
   "cell_type": "code",
   "execution_count": 34,
   "metadata": {},
   "outputs": [],
   "source": [
    "def determinate_beta_gamma_delta(data=None):\n",
    "    '''\n",
    "        this function compute transmission rate, recovered rate and fatalities rate over time\n",
    "        params: data\n",
    "        return: beta, gamma, delta\n",
    "    '''\n",
    "    \n",
    "    beta = []\n",
    "    gamma = []\n",
    "    delta = []\n",
    "    \n",
    "    for t in range(len(data.Date.compute().values)):\n",
    "        \n",
    "        x = data.Confirmed.compute().iloc[t]\n",
    "        y = data.Deaths.compute().iloc[t]\n",
    "        z = data.Recovered.compute().iloc[t]\n",
    "        w = data.CurrentCase.compute().iloc[t]\n",
    "        \n",
    "        if x == 0.0:\n",
    "            beta.append(0)\n",
    "            gamma.append(0)\n",
    "            delta.append(0)\n",
    "        else:\n",
    "            beta_t = w/x\n",
    "            gamma_t = z/x\n",
    "            delta_t = y/x\n",
    "            \n",
    "            beta.append(beta_t)\n",
    "            gamma.append(gamma_t)\n",
    "            delta.append(delta_t)\n",
    "            \n",
    "    return np.array(beta), np.array(gamma), np.array(delta)        "
   ]
  },
  {
   "cell_type": "code",
   "execution_count": 35,
   "metadata": {},
   "outputs": [],
   "source": [
    "transmission, recovery, fatality = determinate_beta_gamma_delta(data=global_cases)"
   ]
  },
  {
   "cell_type": "code",
   "execution_count": 36,
   "metadata": {},
   "outputs": [],
   "source": [
    "parameter_dynamic = pd.DataFrame()\n",
    "parameter_dynamic['beta'] = transmission\n",
    "parameter_dynamic['gamma'] = recovery\n",
    "parameter_dynamic['delta'] = fatality\n",
    "parameter_dynamic['Date'] = global_cases.Date\n",
    "parameter_dynamic = parameter_dynamic.set_index('Date')"
   ]
  },
  {
   "cell_type": "code",
   "execution_count": 37,
   "metadata": {},
   "outputs": [
    {
     "data": {
      "text/html": [
       "<div>\n",
       "<style scoped>\n",
       "    .dataframe tbody tr th:only-of-type {\n",
       "        vertical-align: middle;\n",
       "    }\n",
       "\n",
       "    .dataframe tbody tr th {\n",
       "        vertical-align: top;\n",
       "    }\n",
       "\n",
       "    .dataframe thead th {\n",
       "        text-align: right;\n",
       "    }\n",
       "</style>\n",
       "<table border=\"1\" class=\"dataframe\">\n",
       "  <thead>\n",
       "    <tr style=\"text-align: right;\">\n",
       "      <th></th>\n",
       "      <th>beta</th>\n",
       "      <th>gamma</th>\n",
       "      <th>delta</th>\n",
       "    </tr>\n",
       "    <tr>\n",
       "      <th>Date</th>\n",
       "      <th></th>\n",
       "      <th></th>\n",
       "      <th></th>\n",
       "    </tr>\n",
       "  </thead>\n",
       "  <tbody>\n",
       "    <tr>\n",
       "      <th>2020-01-22</th>\n",
       "      <td>0.918919</td>\n",
       "      <td>0.050450</td>\n",
       "      <td>0.030631</td>\n",
       "    </tr>\n",
       "    <tr>\n",
       "      <th>2020-01-23</th>\n",
       "      <td>0.926606</td>\n",
       "      <td>0.045872</td>\n",
       "      <td>0.027523</td>\n",
       "    </tr>\n",
       "    <tr>\n",
       "      <th>2020-01-24</th>\n",
       "      <td>0.934113</td>\n",
       "      <td>0.038257</td>\n",
       "      <td>0.027630</td>\n",
       "    </tr>\n",
       "    <tr>\n",
       "      <th>2020-01-25</th>\n",
       "      <td>0.943515</td>\n",
       "      <td>0.027197</td>\n",
       "      <td>0.029289</td>\n",
       "    </tr>\n",
       "    <tr>\n",
       "      <th>2020-01-26</th>\n",
       "      <td>0.948536</td>\n",
       "      <td>0.024551</td>\n",
       "      <td>0.026440</td>\n",
       "    </tr>\n",
       "  </tbody>\n",
       "</table>\n",
       "</div>"
      ],
      "text/plain": [
       "                beta     gamma     delta\n",
       "Date                                    \n",
       "2020-01-22  0.918919  0.050450  0.030631\n",
       "2020-01-23  0.926606  0.045872  0.027523\n",
       "2020-01-24  0.934113  0.038257  0.027630\n",
       "2020-01-25  0.943515  0.027197  0.029289\n",
       "2020-01-26  0.948536  0.024551  0.026440"
      ]
     },
     "execution_count": 37,
     "metadata": {},
     "output_type": "execute_result"
    }
   ],
   "source": [
    "parameter_dynamic.head()"
   ]
  },
  {
   "cell_type": "code",
   "execution_count": 38,
   "metadata": {},
   "outputs": [],
   "source": [
    "def find_R0(data=None):\n",
    "    '''\n",
    "        This function compute R0 over time\n",
    "        params: data\n",
    "        return: R0\n",
    "    '''\n",
    "    return data.beta.values/(data.gamma.values + data.delta.values)"
   ]
  },
  {
   "cell_type": "code",
   "execution_count": 39,
   "metadata": {},
   "outputs": [
    {
     "name": "stdout",
     "output_type": "stream",
     "text": [
      "0.7019303822001705\n"
     ]
    },
    {
     "data": {
      "text/plain": [
       "Index(['β', 'γ', 'δ', 'R0'], dtype='object')"
      ]
     },
     "execution_count": 39,
     "metadata": {},
     "output_type": "execute_result"
    }
   ],
   "source": [
    "#Compute R0\n",
    "parameter_dynamic['R0'] = find_R0(data=parameter_dynamic)\n",
    "print(parameter_dynamic['R0'].min())\n",
    "parameter_dynamic.columns=['\\u03B2', '\\u03B3', '\\u03B4','R0']\n",
    "parameter_dynamic.columns"
   ]
  },
  {
   "cell_type": "code",
   "execution_count": 40,
   "metadata": {},
   "outputs": [
    {
     "data": {
      "image/png": "[encoded data removed]",
      "text/plain": [
       "<Figure size 1080x504 with 1 Axes>"
      ]
     },
     "metadata": {
      "needs_background": "light"
     },
     "output_type": "display_data"
    }
   ],
   "source": [
    "parameter_dynamic[['\\u03B2', '\\u03B3', '\\u03B4']].plot(figsize=(15,7))\n",
    "plt.legend(loc='best')\n",
    "plt.title('parameter dynamics for spreading of SARS Cov 2 in the world');"
   ]
  },
  {
   "cell_type": "code",
   "execution_count": 41,
   "metadata": {},
   "outputs": [
    {
     "data": {
      "image/png": "[encoded data removed]",
      "text/plain": [
       "<Figure size 1080x504 with 1 Axes>"
      ]
     },
     "metadata": {
      "needs_background": "light"
     },
     "output_type": "display_data"
    }
   ],
   "source": [
    "# Plot R0\n",
    "parameter_dynamic['R0'].plot(figsize=(15,7))\n",
    "plt.legend(loc='best')\n",
    "plt.title('ratio reproductive number for SARS Cov 2 Globally');"
   ]
  },
  {
   "cell_type": "code",
   "execution_count": 42,
   "metadata": {},
   "outputs": [],
   "source": [
    "def growth_rate(data=None):\n",
    "    \"\"\"\n",
    "        This function compute a growth rate of one variable\n",
    "        params: data\n",
    "        return: growth rate x\n",
    "    \n",
    "    \"\"\"\n",
    "    x = []\n",
    "    x.append(0)\n",
    "    for i in range(data.compute().shape[0]-1):\n",
    "        a = data.compute().iloc[i+1]-data.compute().iloc[i]\n",
    "        b = a/data.compute().iloc[i]\n",
    "        x.append(b)\n",
    "        \n",
    "    return np.array(x)"
   ]
  },
  {
   "cell_type": "code",
   "execution_count": 43,
   "metadata": {},
   "outputs": [],
   "source": [
    "growth_rate_currentCase = pd.DataFrame(growth_rate(data=global_cases.CurrentCase), columns=['currentCase'])"
   ]
  },
  {
   "cell_type": "code",
   "execution_count": null,
   "metadata": {},
   "outputs": [],
   "source": [
    "growth_rate_currentCase.plot(figsize=(15,7))\n",
    "plt.legend(loc='best')\n",
    "plt.title('Infective growth rate for Covid 19 disease in globally');"
   ]
  },
  {
   "cell_type": "code",
   "execution_count": null,
   "metadata": {},
   "outputs": [],
   "source": []
  }
 ],
 "metadata": {
  "kernelspec": {
   "display_name": "Python 3",
   "language": "python",
   "name": "python3"
  },
  "language_info": {
   "codemirror_mode": {
    "name": "ipython",
    "version": 3
   },
   "file_extension": ".py",
   "mimetype": "text/x-python",
   "name": "python",
   "nbconvert_exporter": "python",
   "pygments_lexer": "ipython3",
   "version": "3.7.3"
  }
 },
 "nbformat": 4,
 "nbformat_minor": 4
}
